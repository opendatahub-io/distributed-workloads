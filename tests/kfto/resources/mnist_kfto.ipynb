{
 "cells": [
  {
   "cell_type": "code",
   "execution_count": null,
   "id": "61061396",
   "metadata": {},
   "outputs": [],
   "source": [
    "%pip show kubeflow-training  # to check installed kubeflow-traning SDK version during test-run"
   ]
  },
  {
   "cell_type": "code",
   "execution_count": null,
   "id": "b55bc3ea-4ce3-49bf-bb1f-e209de8ca47a",
   "metadata": {
    "tags": []
   },
   "outputs": [],
   "source": [
    "import sys\n",
    "sys.path.append(\"../notebooks\")  # needed to make kfto_sdk_mnist\n",
    "from kfto_sdk_mnist import train_func "
   ]
  },
  {
   "cell_type": "code",
   "execution_count": null,
   "id": "72dd1751",
   "metadata": {
    "tags": [
     "parameters"
    ]
   },
   "outputs": [],
   "source": [
    "# parameters\n",
    "num_gpus = \"${num_gpus}\"\n",
    "openshift_api_url = \"${api_url}\"\n",
    "namespace = \"${namespace}\"\n",
    "token = \"${token}\"\n",
    "training_image= \"${training_image}\"\n",
    "localQueue = \"${localQueue}\""
   ]
  },
  {
   "cell_type": "code",
   "execution_count": null,
   "id": "4ca70b20",
   "metadata": {},
   "outputs": [],
   "source": [
    "from kubernetes import client\n",
    "from kubeflow.training import TrainingClient\n",
    "\n",
    "configuration = client.Configuration()\n",
    "configuration.host = openshift_api_url\n",
    "configuration.api_key = {\"authorization\": f\"Bearer {token}\"}\n",
    "configuration.verify_ssl = False\n",
    "api_client = client.ApiClient(configuration)\n",
    "client = TrainingClient(client_configuration=api_client.configuration)"
   ]
  },
  {
   "cell_type": "code",
   "execution_count": null,
   "id": "a208eeac",
   "metadata": {},
   "outputs": [],
   "source": [
    "import os\n",
    "client.create_job(\n",
    "   name=\"pytorch-ddp\",\n",
    "   namespace=namespace,\n",
    "   train_func=train_func,\n",
    "   num_workers=1,\n",
    "   resources_per_worker={\"gpu\": num_gpus},\n",
    "   base_image=training_image,\n",
    "   packages_to_install=[\"torchvision==0.19.0\",\"minio==7.2.13\"],\n",
    "   pip_index_url= os.environ.get(\"PIP_INDEX_URL\"),\n",
    "   env_vars={\n",
    "      \"NCCL_DEBUG\": \"INFO\", \n",
    "      \"TORCH_DISTRIBUTED_DEBUG\": \"DETAIL\", \n",
    "      \"DEFAULT_PIP_INDEX_URL\": os.environ.get(\"PIP_INDEX_URL\"),\n",
    "      \"PIP_TRUSTED_HOST\": os.environ.get(\"PIP_TRUSTED_HOST\")\n",
    "   },\n",
    "   labels={\n",
    "       \"kueue.x-k8s.io/queue-name\": localQueue,\n",
    "   }\n",
    ")"
   ]
  },
  {
   "cell_type": "code",
   "execution_count": null,
   "id": "c720fcf7",
   "metadata": {},
   "outputs": [],
   "source": [
    "import time\n",
    "while not client.is_job_succeeded(name=\"pytorch-ddp\", namespace=namespace): \n",
    "    time.sleep(1)\n",
    "print(\"PytorchJob Succeeded!\")"
   ]
  },
  {
   "cell_type": "code",
   "execution_count": null,
   "id": "b756ad3e",
   "metadata": {},
   "outputs": [],
   "source": [
    "time.sleep(10)"
   ]
  }
 ],
 "metadata": {
  "kernelspec": {
   "display_name": "Python 3",
   "language": "python",
   "name": "python3"
  },
  "language_info": {
   "codemirror_mode": {
    "name": "ipython",
    "version": 3
   },
   "file_extension": ".py",
   "mimetype": "text/x-python",
   "name": "python",
   "nbconvert_exporter": "python",
   "pygments_lexer": "ipython3",
   "version": "3.11.0"
  }
 },
 "nbformat": 4,
 "nbformat_minor": 5
}
