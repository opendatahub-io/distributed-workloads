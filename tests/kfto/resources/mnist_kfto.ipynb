{
 "cells": [
  {
   "cell_type": "code",
   "execution_count": null,
   "id": "61061396",
   "metadata": {},
   "outputs": [],
   "source": [
    "%pip show kubeflow-training  # to check installed kubeflow-traning SDK version during test-run"
   ]
  },
  {
   "cell_type": "code",
   "execution_count": 42,
   "id": "b55bc3ea-4ce3-49bf-bb1f-e209de8ca47a",
   "metadata": {
    "tags": []
   },
   "outputs": [],
   "source": [
    "import sys\n",
    "sys.path.append(\"../notebooks\")  # needed to make kfto_sdk_mnist\n",
    "from kfto_sdk_mnist import train_func\n",
    "from kubeflow.training import TrainingClient\n",
    "from kubernetes import client as c\n",
    "import time"
   ]
  },
  {
   "cell_type": "code",
   "execution_count": 41,
   "id": "72dd1751",
   "metadata": {
    "tags": [
     "parameters"
    ]
   },
   "outputs": [],
   "source": [
    "# parameters\n",
    "num_gpus = \"${num_gpus}\"\n",
    "openshift_api_url = \"${api_url}\"\n",
    "namespace = \"${namespace}\"\n",
    "token = \"${password}\"\n",
    "training_image= \"${training_image}\""
   ]
  },
  {
   "cell_type": "code",
   "execution_count": null,
   "id": "aadaa4a7",
   "metadata": {},
   "outputs": [],
   "source": [
    "def GetDefaultLocalQueue(namespace: str):\n",
    "    \"\"\"\n",
    "    Fetches the LocalQueue in the given namespace whose annotation\n",
    "    \"kueue.x-k8s.io/default-queue\" == \"true\". Returns the dict\n",
    "    for the queue, or None.\n",
    "    \"\"\"\n",
    "    group   = \"kueue.x-k8s.io\"\n",
    "    version = \"v1beta1\"\n",
    "    plural  = \"localqueues\"\n",
    "\n",
    "    conf = c.Configuration()\n",
    "    conf.host = openshift_api_url\n",
    "    conf.verify_ssl = False\n",
    "    conf.api_key = {\"authorization\": f\"Bearer {token}\"}\n",
    "\n",
    "    api_client = c.ApiClient(configuration=conf)\n",
    "    api = c.CustomObjectsApi(api_client)\n",
    "\n",
    "    resp = api.list_namespaced_custom_object(\n",
    "        group=group, version=version, namespace=namespace, plural=plural\n",
    "    )\n",
    "\n",
    "    default_q = None\n",
    "    for item in resp.get(\"items\", []):\n",
    "        ann = item.get(\"metadata\", {}).get(\"annotations\") or {}\n",
    "        if ann.get(\"kueue.x-k8s.io/default-queue\") == \"true\":\n",
    "            if default_q is not None:\n",
    "                raise RuntimeError(\n",
    "                    f\"multiple LocalQueues annotated as default in {namespace}: \"\n",
    "                    f\"{default_q['metadata']['name']} and {item['metadata']['name']}\"\n",
    "                )\n",
    "            default_q = item['metadata']['name']\n",
    "\n",
    "    if default_q is None:\n",
    "        raise RuntimeError(f\"no LocalQueue annotated as default in namespace {namespace}\")\n",
    "\n",
    "    return default_q"
   ]
  },
  {
   "cell_type": "code",
   "execution_count": null,
   "id": "4ca70b20",
   "metadata": {},
   "outputs": [],
   "source": [
    "api_key = {\"authorization\": f\"Bearer {token}\"}\n",
    "# config = c.Configuration(host=openshift_api_url, api_key=token)\n",
    "# config.verify_ssl = False\n",
    "tc = TrainingClient()\n",
    "\n",
    "# get default local queue\n",
    "default_local_queue=GetDefaultLocalQueue(namespace)"
   ]
  },
  {
   "cell_type": "code",
   "execution_count": null,
   "id": "a208eeac",
   "metadata": {},
   "outputs": [],
   "source": [
    "import os\n",
    "tc.create_job(\n",
    "   name=\"pytorch-ddp\",\n",
    "   namespace=namespace,\n",
    "   train_func=train_func,\n",
    "   num_workers=1,\n",
    "   resources_per_worker={\"gpu\": num_gpus},\n",
    "   base_image=training_image,\n",
    "   packages_to_install=[\"torchvision==0.19.0\",\"minio==7.2.13\"],\n",
    "   pip_index_url= os.environ.get(\"PIP_INDEX_URL\"),\n",
    "   env_vars={\n",
    "      \"NCCL_DEBUG\": \"INFO\", \n",
    "      \"TORCH_DISTRIBUTED_DEBUG\": \"DETAIL\", \n",
    "      \"DEFAULT_PIP_INDEX_URL\": os.environ.get(\"PIP_INDEX_URL\"),\n",
    "      \"PIP_TRUSTED_HOST\": os.environ.get(\"PIP_TRUSTED_HOST\")\n",
    "   },\n",
    "   labels={\n",
    "       \"kueue.x-k8s.io/queue-name\": default_local_queue,\n",
    "   }\n",
    ")"
   ]
  },
  {
   "cell_type": "code",
   "execution_count": null,
   "id": "c720fcf7",
   "metadata": {},
   "outputs": [],
   "source": [
    "while not tc.is_job_succeeded(name=\"pytorch-ddp\", namespace=namespace): \n",
    "    time.sleep(1)\n",
    "print(\"PytorchJob Succeeded!\")"
   ]
  },
  {
   "cell_type": "code",
   "execution_count": null,
   "id": "b756ad3e",
   "metadata": {},
   "outputs": [],
   "source": [
    "time.sleep(10)"
   ]
  }
 ],
 "metadata": {
  "kernelspec": {
   "display_name": "Python 3",
   "language": "python",
   "name": "python3"
  },
  "language_info": {
   "codemirror_mode": {
    "name": "ipython",
    "version": 3
   },
   "file_extension": ".py",
   "mimetype": "text/x-python",
   "name": "python",
   "nbconvert_exporter": "python",
   "pygments_lexer": "ipython3",
   "version": "3.11.0"
  }
 },
 "nbformat": 4,
 "nbformat_minor": 5
}
