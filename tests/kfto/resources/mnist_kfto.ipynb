{
 "cells": [
  {
   "cell_type": "code",
   "execution_count": null,
   "id": "ebdb3af3",
   "metadata": {},
   "outputs": [],
   "source": [
    "%pip install -U kubeflow-training"
   ]
  },
  {
   "cell_type": "code",
   "execution_count": 6,
   "id": "b55bc3ea-4ce3-49bf-bb1f-e209de8ca47a",
   "metadata": {
    "tags": []
   },
   "outputs": [],
   "source": [
    "import sys\n",
    "sys.path.append(\"../notebooks\")  # needed to make kfto_sdk_mnist\n",
    "from kfto_sdk_mnist import train_func\n",
    "from kubeflow.training import TrainingClient\n",
    "from kubernetes import client as c\n",
    "import time"
   ]
  },
  {
   "cell_type": "code",
   "execution_count": null,
   "id": "72dd1751",
   "metadata": {},
   "outputs": [],
   "source": [
    "# parameters\n",
    "num_gpus = \"${num_gpus}\"\n",
    "openshift_api_url = \"${api_url}\"\n",
    "namespace = \"${namespace}\"\n",
    "token = \"${password}\"\n",
    "training_image= \"${training_image}\""
   ]
  },
  {
   "cell_type": "code",
   "execution_count": 8,
   "id": "4ca70b20",
   "metadata": {},
   "outputs": [],
   "source": [
    "api_key = {\"authorization\": f\"Bearer {token}\"}\n",
    "# config = c.Configuration(host=openshift_api_url, api_key=token)\n",
    "# config.verify_ssl = False\n",
    "tc = TrainingClient()"
   ]
  },
  {
   "cell_type": "code",
   "execution_count": null,
   "id": "a208eeac",
   "metadata": {},
   "outputs": [],
   "source": [
    "tc.create_job(\n",
    "   name=\"pytorch-ddp\",\n",
    "   namespace=namespace,\n",
    "   train_func=train_func,\n",
    "   num_workers=1,\n",
    "   resources_per_worker={\"gpu\": num_gpus},\n",
    "   base_image=training_image,\n",
    "   packages_to_install=[\"torchvision==0.19.0\",\"minio==7.2.13\", \"--target=/tmp/lib\"],\n",
    "   env_vars={\"PYTHONPATH\": \"/tmp/lib:$PYTHONPATH\", \"NCCL_DEBUG\": \"INFO\", \"TORCH_DISTRIBUTED_DEBUG\": \"DETAIL\"}\n",
    ")"
   ]
  },
  {
   "cell_type": "code",
   "execution_count": null,
   "id": "c720fcf7",
   "metadata": {},
   "outputs": [],
   "source": [
    "while not tc.is_job_succeeded(name=\"pytorch-ddp\", namespace=namespace): \n",
    "    time.sleep(1)"
   ]
  },
  {
   "cell_type": "code",
   "execution_count": null,
   "id": "b756ad3e",
   "metadata": {},
   "outputs": [],
   "source": [
    "time.sleep(10)"
   ]
  }
 ],
 "metadata": {
  "kernelspec": {
   "display_name": "kfto2",
   "language": "python",
   "name": "python3"
  },
  "language_info": {
   "codemirror_mode": {
    "name": "ipython",
    "version": 3
   },
   "file_extension": ".py",
   "mimetype": "text/x-python",
   "name": "python",
   "nbconvert_exporter": "python",
   "pygments_lexer": "ipython3",
   "version": "3.11.10"
  }
 },
 "nbformat": 4,
 "nbformat_minor": 5
}
