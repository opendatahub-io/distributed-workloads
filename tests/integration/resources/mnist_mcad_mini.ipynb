{
 "cells": [
  {
   "cell_type": "code",
   "execution_count": null,
   "id": "b55bc3ea-4ce3-49bf-bb1f-e209de8ca47a",
   "metadata": {
    "tags": []
   },
   "outputs": [],
   "source": [
    "# Import pieces from codeflare-sdk\n",
    "from codeflare_sdk.job.jobs import DDPJobDefinition\n",
    "from time import sleep"
   ]
  },
  {
   "cell_type": "code",
   "execution_count": null,
   "id": "47ca5c15",
   "metadata": {
    "tags": ["parameters"]
   },
   "outputs": [],
   "source": [
    "#parameters\n",
    "namespace = \"default\""
   ]
  },
  {
   "cell_type": "code",
   "execution_count": null,
   "id": "26b21373",
   "metadata": {},
   "outputs": [],
   "source": [
    "job = DDPJobDefinition(name=\"mnistjob\", script=\"mnist.py\", scheduler_args={\"namespace\": namespace}, j=\"1x1\", gpu=0, cpu=1, memMB=2000, image=\"quay.io/project-codeflare/mnist-job-test:v0.0.1\").submit()"
   ]
  },
  {
   "cell_type": "code",
   "execution_count": null,
   "id": "d24e9f95",
   "metadata": {},
   "outputs": [],
   "source": [
    "finished = False\n",
    "while not finished:\n",
    "    sleep(1)\n",
    "    try:\n",
    "        finished = (\"Epoch 4: 100%\" in job.logs())\n",
    "    except:\n",
    "        finished = False"
   ]
  },
  {
   "cell_type": "code",
   "execution_count": null,
   "id": "f078b7cd",
   "metadata": {},
   "outputs": [],
   "source": [
    "job.cancel()"
   ]
  }
 ],
 "metadata": {
  "kernelspec": {
   "display_name": "Python 3 (ipykernel)",
   "language": "python",
   "name": "python3"
  },
  "language_info": {
   "codemirror_mode": {
    "name": "ipython",
    "version": 3
   },
   "file_extension": ".py",
   "mimetype": "text/x-python",
   "name": "python",
   "nbconvert_exporter": "python",
   "pygments_lexer": "ipython3",
   "version": "3.9.13"
  },
  "vscode": {
   "interpreter": {
    "hash": "f9f85f796d01129d0dd105a088854619f454435301f6ffec2fea96ecbd9be4ac"
   }
  }
 },
 "nbformat": 4,
 "nbformat_minor": 5
}
