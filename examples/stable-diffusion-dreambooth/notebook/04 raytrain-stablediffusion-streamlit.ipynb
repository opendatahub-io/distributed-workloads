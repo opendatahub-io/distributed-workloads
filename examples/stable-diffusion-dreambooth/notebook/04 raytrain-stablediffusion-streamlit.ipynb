{
 "cells": [
  {
   "cell_type": "code",
   "execution_count": null,
   "id": "1a659600-72f7-480f-b936-2a9a3eae0f2a",
   "metadata": {
    "tags": []
   },
   "outputs": [],
   "source": [
    "model_url = !oc get inferenceservice stable-diffusion -o jsonpath='{.status.components.predictor.url}'\n",
    "model_url = model_url.n\n",
    "\n",
    "print(f\"Model endpoint: {model_url}\")"
   ]
  },
  {
   "cell_type": "code",
   "execution_count": null,
   "id": "d000acb8-d948-49bf-bf25-1b3cca5bb501",
   "metadata": {
    "tags": []
   },
   "outputs": [],
   "source": [
    "# Create a new application using OpenShift BuildConfig with a S2I image\n",
    "!oc new-app https://github.com/opendatahub-io/distributed-workloads.git \\\n",
    "    --context-dir=examples/stable-diffusion-dreambooth/app \\\n",
    "    --image-stream=python:3.9-ubi9 \\\n",
    "    --name=streamlit-chat \\\n",
    "    -e MODEL_API_ENDPOINT={model_url} \\\n",
    "    -e MODEL_NAME=stable-diffusion"
   ]
  },
  {
   "cell_type": "code",
   "execution_count": null,
   "id": "1deecc9c-c06b-447f-aecd-1645969c8365",
   "metadata": {
    "tags": []
   },
   "outputs": [],
   "source": [
    "# Follow the build\n",
    "!oc logs -f buildconfig/streamlit-chat"
   ]
  },
  {
   "cell_type": "code",
   "execution_count": null,
   "id": "b68f469f-c046-4c63-b2f5-22178edbca68",
   "metadata": {
    "tags": []
   },
   "outputs": [],
   "source": [
    "# Creates the route with edge termination for https\n",
    "!oc create route edge --service=streamlit-chat"
   ]
  },
  {
   "cell_type": "code",
   "execution_count": null,
   "id": "6c0ebfe0-7a18-4419-9cd2-fbafbb1529f1",
   "metadata": {
    "tags": []
   },
   "outputs": [],
   "source": [
    "route_url = !oc get route streamlit-chat  -o jsonpath='{.spec.host}'\n",
    "print(f\"Chat url: https://{route_url.n}\")"
   ]
  }
 ],
 "metadata": {
  "kernelspec": {
   "display_name": "Python 3.9",
   "language": "python",
   "name": "python3"
  },
  "language_info": {
   "codemirror_mode": {
    "name": "ipython",
    "version": 3
   },
   "file_extension": ".py",
   "mimetype": "text/x-python",
   "name": "python",
   "nbconvert_exporter": "python",
   "pygments_lexer": "ipython3",
   "version": "3.9.16"
  }
 },
 "nbformat": 4,
 "nbformat_minor": 5
}
