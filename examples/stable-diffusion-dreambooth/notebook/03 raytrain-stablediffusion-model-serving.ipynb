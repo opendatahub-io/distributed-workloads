{
 "cells": [
  {
   "cell_type": "code",
   "execution_count": null,
   "id": "a93d779d",
   "metadata": {
    "tags": []
   },
   "outputs": [],
   "source": [
    "import os"
   ]
  },
  {
   "cell_type": "code",
   "execution_count": null,
   "id": "befd848c-dd70-42dc-952f-91682e2c67a1",
   "metadata": {
    "tags": []
   },
   "outputs": [],
   "source": [
    "work_dir=os.getcwd()\n",
    "print(f\"Current working directory: {work_dir}\")"
   ]
  },
  {
   "cell_type": "code",
   "execution_count": null,
   "id": "604a2c0a",
   "metadata": {
    "tags": []
   },
   "outputs": [],
   "source": [
    "!oc apply -f {work_dir}/../yaml/distributed/serving-runtime.yaml -f {work_dir}/../yaml/distributed/inference-service.yaml"
   ]
  },
  {
   "cell_type": "code",
   "execution_count": null,
   "id": "c8a58960",
   "metadata": {},
   "outputs": [],
   "source": [
    "!until oc get inferenceservice stable-diffusion -n distributed -o jsonpath='{.status.conditions[?(@.type==\"Ready\")].status}' | grep -q True ; do \\\n",
    "   echo \"Waiting for inference service to be ready...\"; \\\n",
    "   sleep 30; \\\n",
    "done\n",
    "\n",
    "print(\"Inference serving is ready\")"
   ]
  },
  {
   "cell_type": "code",
   "execution_count": null,
   "id": "46e49809",
   "metadata": {
    "tags": []
   },
   "outputs": [],
   "source": [
    "model_url = !oc get inferenceservice stable-diffusion -o jsonpath='{.status.components.predictor.url}'\n",
    "model_url = model_url.n\n",
    "\n",
    "print(f\"Model endpoint: {model_url}\")"
   ]
  },
  {
   "cell_type": "code",
   "execution_count": null,
   "id": "8f047738",
   "metadata": {
    "tags": []
   },
   "outputs": [],
   "source": [
    "uniq_token = 'unqtkn'\n",
    "class_name = 'dog'\n",
    "my_prompt = f'photo of {uniq_token} {class_name} in a sand castle'\n",
    "\n",
    "!python {work_dir}/model/kserve-query.py --url=\"{model_url}/v1/models/stable-diffusion:predict\" --prompt \"{my_prompt}\" --filename output.jpg"
   ]
  },
  {
   "cell_type": "code",
   "execution_count": null,
   "id": "50eea938",
   "metadata": {},
   "outputs": [],
   "source": [
    "from IPython.display import Image\n",
    "\n",
    "Image(filename='output.jpg')"
   ]
  }
 ],
 "metadata": {
  "kernelspec": {
   "display_name": "Python 3.9",
   "language": "python",
   "name": "python3"
  },
  "language_info": {
   "codemirror_mode": {
    "name": "ipython",
    "version": 3
   },
   "file_extension": ".py",
   "mimetype": "text/x-python",
   "name": "python",
   "nbconvert_exporter": "python",
   "pygments_lexer": "ipython3",
   "version": "3.9.16"
  }
 },
 "nbformat": 4,
 "nbformat_minor": 5
}
