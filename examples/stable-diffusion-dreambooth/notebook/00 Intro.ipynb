{
 "cells": [
  {
   "cell_type": "markdown",
   "id": "88fe41f7",
   "metadata": {},
   "source": [
    "This notebook shows a simple example of running a remote function on the Ray cluster."
   ]
  },
  {
   "cell_type": "code",
   "execution_count": null,
   "id": "b4e7fbb0",
   "metadata": {},
   "outputs": [],
   "source": [
    "!pip install codeflare_sdk==0.16.3"
   ]
  },
  {
   "cell_type": "code",
   "execution_count": null,
   "id": "f5fbaa8f-3db7-46d8-a9f0-b6908ea05967",
   "metadata": {
    "tags": []
   },
   "outputs": [],
   "source": [
    "from codeflare_sdk.cluster.cluster import Cluster, ClusterConfiguration\n",
    "from codeflare_sdk.cluster.auth import TokenAuthentication"
   ]
  },
  {
   "cell_type": "code",
   "execution_count": null,
   "id": "31683434-3554-4105-b216-d895c73e3730",
   "metadata": {},
   "outputs": [],
   "source": [
    "cluster_name = \"test\"\n",
    "namespace = \"distributed\""
   ]
  },
  {
   "cell_type": "code",
   "execution_count": null,
   "id": "a95671c4-5314-4a80-b533-446493dbbbdf",
   "metadata": {
    "tags": []
   },
   "outputs": [],
   "source": [
    "# Create our cluster and submit\n",
    "cluster = Cluster(ClusterConfiguration(name=cluster_name, \n",
    "                                       namespace=namespace, # Update to your namespace\n",
    "                                       num_workers=2, \n",
    "                                       worker_cpu_requests=4, \n",
    "                                       worker_cpu_limits=4, \n",
    "                                       worker_memory_requests=8, \n",
    "                                       worker_memory_limits=8, \n",
    "                                       head_extended_resource_requests={'nvidia.com/gpu':0},\n",
    "                                       worker_extended_resource_requests={'nvidia.com/gpu':0},\n",
    "                                       image=\"quay.io/project-codeflare/ray:latest-py39-cu118\",\n",
    "                                       write_to_file=False, # When enabled Ray Cluster yaml files are written to /HOME/.codeflare/resources \n",
    "                                       local_queue=\"local-queue\"\n",
    "                                       ))"
   ]
  },
  {
   "cell_type": "code",
   "execution_count": null,
   "id": "55ca3bf6-b3d9-479f-80c2-f45110f09c6d",
   "metadata": {
    "tags": []
   },
   "outputs": [],
   "source": [
    "cluster.up()\n",
    "cluster.wait_ready()"
   ]
  },
  {
   "cell_type": "code",
   "execution_count": null,
   "id": "122ecb3a-9025-4809-9ebf-51e72d741470",
   "metadata": {
    "tags": []
   },
   "outputs": [],
   "source": [
    "cluster.details()"
   ]
  },
  {
   "cell_type": "code",
   "execution_count": null,
   "id": "7d780464-56b6-4f86-badb-f7c301722787",
   "metadata": {},
   "outputs": [],
   "source": [
    "ray_cluster_uri = cluster.cluster_uri()\n",
    "print(\"ray_cluster_uri: \", ray_cluster_uri)"
   ]
  },
  {
   "cell_type": "code",
   "execution_count": null,
   "id": "8feb69f8-3256-4579-bc16-bd65a7783924",
   "metadata": {
    "tags": []
   },
   "outputs": [],
   "source": [
    "from codeflare_sdk import generate_cert\n",
    "\n",
    "# Create required TLS cert and export the environment variables to enable TLS\n",
    "generate_cert.generate_tls_cert(cluster_name, namespace)\n",
    "generate_cert.export_env(cluster_name, namespace)"
   ]
  },
  {
   "cell_type": "code",
   "execution_count": null,
   "id": "9bd75055-dd21-40c7-91dd-e93f51360134",
   "metadata": {
    "tags": []
   },
   "outputs": [],
   "source": [
    "#before proceeding make sure the cluster exists and the uri is not empty\n",
    "assert ray_cluster_uri, \"Ray cluster needs to be started and set before proceeding\"\n",
    "\n",
    "import ray\n",
    "\n",
    "# reset ray context in case there's already one\n",
    "ray.shutdown()"
   ]
  },
  {
   "cell_type": "code",
   "execution_count": null,
   "id": "1306ae4d-04ef-47a8-b8cd-3453834d2e77",
   "metadata": {
    "tags": []
   },
   "outputs": [],
   "source": [
    "runtime_env = {\"pip\": [\"emoji\"]}\n",
    "\n",
    "ray.init(address=ray_cluster_uri, runtime_env=runtime_env)\n",
    "print(\"Ray cluster is up and running \", ray.is_initialized())"
   ]
  },
  {
   "cell_type": "code",
   "execution_count": null,
   "id": "415ce9d3-a460-4495-9d16-39dd0e41929b",
   "metadata": {},
   "outputs": [],
   "source": [
    "@ray.remote\n",
    "def f():\n",
    "  import emoji\n",
    "  return emoji.emojize('Python is :thumbs_up:')\n",
    "\n",
    "print(ray.get(f.remote()))"
   ]
  },
  {
   "cell_type": "raw",
   "id": "4d3cc75d-1a68-4bf5-a3d4-5139574fae61",
   "metadata": {},
   "source": [
    "ray.shutdown()"
   ]
  },
  {
   "cell_type": "code",
   "execution_count": null,
   "id": "8652a471-8a7b-48a3-b712-fc3fcf0d4710",
   "metadata": {
    "tags": []
   },
   "outputs": [],
   "source": [
    "cluster.down()"
   ]
  }
 ],
 "metadata": {
  "kernelspec": {
   "display_name": "Python 3.9",
   "language": "python",
   "name": "python3"
  },
  "language_info": {
   "codemirror_mode": {
    "name": "ipython",
    "version": 3
   },
   "file_extension": ".py",
   "mimetype": "text/x-python",
   "name": "python",
   "nbconvert_exporter": "python",
   "pygments_lexer": "ipython3",
   "version": "3.9.19"
  }
 },
 "nbformat": 4,
 "nbformat_minor": 5
}
