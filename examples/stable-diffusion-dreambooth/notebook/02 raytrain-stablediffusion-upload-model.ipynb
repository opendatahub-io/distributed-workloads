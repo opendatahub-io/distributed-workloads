{
 "cells": [
  {
   "cell_type": "code",
   "execution_count": null,
   "id": "0943b366-7d19-4256-a4dc-9d89ce2ec642",
   "metadata": {
    "tags": []
   },
   "outputs": [],
   "source": [
    "!pip install boto3 botocore torch-model-archiver"
   ]
  },
  {
   "cell_type": "code",
   "execution_count": null,
   "id": "a1c00479-5073-4b1c-98b1-6fb0c468cd54",
   "metadata": {
    "tags": []
   },
   "outputs": [],
   "source": [
    "import os\n",
    "import boto3\n",
    "import botocore\n",
    "\n",
    "aws_access_key_id = os.environ.get('AWS_ACCESS_KEY_ID')\n",
    "aws_secret_access_key = os.environ.get('AWS_SECRET_ACCESS_KEY')\n",
    "endpoint_url = os.environ.get('AWS_ENDPOINT_URL_S3')\n",
    "region_name = os.environ.get('AWS_DEFAULT_REGION')\n",
    "bucket_name = os.environ.get('AWS_S3_BUCKET')"
   ]
  },
  {
   "cell_type": "code",
   "execution_count": null,
   "id": "befd848c-dd70-42dc-952f-91682e2c67a1",
   "metadata": {
    "tags": []
   },
   "outputs": [],
   "source": [
    "work_dir=os.getcwd()\n",
    "print(f\"Current working directory: {work_dir}\")"
   ]
  },
  {
   "cell_type": "code",
   "execution_count": null,
   "id": "f36f1328-b92c-4468-ad61-2b3ada4d9844",
   "metadata": {
    "tags": []
   },
   "outputs": [],
   "source": [
    "tuned_model_dir = f\"{work_dir}/images/model-tuned\"\n",
    "print(f\"Local tuned model dir: {tuned_model_dir}\")"
   ]
  },
  {
   "cell_type": "code",
   "execution_count": null,
   "id": "44e17283-a38e-437d-93ae-8e1509431b1a",
   "metadata": {
    "tags": []
   },
   "outputs": [],
   "source": [
    "minio_console=!oc get route minio-console -o jsonpath='{.spec.host}'\n",
    "print(f\"Minio console: https://{minio_console.n}/browser/{bucket_name}\")"
   ]
  },
  {
   "cell_type": "code",
   "execution_count": null,
   "id": "167bcf72-0217-4ce7-a9a0-572d2dfc62e1",
   "metadata": {
    "tags": []
   },
   "outputs": [],
   "source": [
    "# This can take 10-15mins to zip up\n",
    "\n",
    "!(cd {tuned_model_dir} && zip -r {work_dir}/model/model.zip *)"
   ]
  },
  {
   "cell_type": "code",
   "execution_count": null,
   "id": "9bbeab20-d6c6-4f3b-8bb0-85ca53b90b2a",
   "metadata": {
    "tags": []
   },
   "outputs": [],
   "source": [
    "!(cd {work_dir}/model && torch-model-archiver --model-name stable-diffusion --version 1.0 --handler stable_diffusion_handler.py --extra-files model.zip -r requirements.txt -f)"
   ]
  },
  {
   "cell_type": "code",
   "execution_count": null,
   "id": "aa7455e8-9849-47d5-921b-e97fddee9e53",
   "metadata": {
    "tags": []
   },
   "outputs": [],
   "source": [
    "if not all([aws_access_key_id, aws_secret_access_key, endpoint_url, region_name, bucket_name]):\n",
    "    raise ValueError(\"One or data connection variables are empty.  \"\n",
    "                     \"Please check your data connection to an S3 bucket.\")\n",
    "\n",
    "session = boto3.session.Session(aws_access_key_id=aws_access_key_id,\n",
    "                                aws_secret_access_key=aws_secret_access_key)\n",
    "\n",
    "s3_resource = session.resource(\n",
    "    's3',\n",
    "    config=botocore.client.Config(signature_version='s3v4'),\n",
    "    endpoint_url=endpoint_url,\n",
    "    region_name=region_name)\n",
    "\n",
    "bucket = s3_resource.Bucket(bucket_name)\n",
    "\n",
    "def upload_directory_to_s3(local_directory, s3_prefix):\n",
    "    num_files = 0\n",
    "    for root, dirs, files in os.walk(local_directory):\n",
    "        for filename in files:\n",
    "            file_path = os.path.join(root, filename)\n",
    "            relative_path = os.path.relpath(file_path, local_directory)\n",
    "            s3_key = os.path.join(s3_prefix, relative_path)\n",
    "            print(f\"{file_path} -> {s3_key}\")\n",
    "            bucket.upload_file(file_path, s3_key)\n",
    "            num_files += 1\n",
    "    return num_files\n",
    "\n",
    "\n",
    "def list_objects(prefix):\n",
    "    filter = bucket.objects.filter(Prefix=prefix)\n",
    "    for obj in filter.all():\n",
    "        print(obj.key)"
   ]
  },
  {
   "cell_type": "code",
   "execution_count": null,
   "id": "07c3e2ca-dff8-45e7-acba-43b3b1a6e495",
   "metadata": {
    "tags": []
   },
   "outputs": [],
   "source": [
    "list_objects(\"models\")"
   ]
  },
  {
   "cell_type": "code",
   "execution_count": null,
   "id": "6c973fc9-d3be-49b5-a6e2-e35838cf5d6c",
   "metadata": {
    "tags": []
   },
   "outputs": [],
   "source": [
    "model_dir = work_dir + \"/model\"\n",
    "\n",
    "if not os.path.isdir(model_dir):\n",
    "    raise ValueError(f\"The directory '{model_dir}' does not exist.  \"\n",
    "                     \"Did you finish training the model in the previous notebook?\")\n",
    "\n",
    "num_files = upload_directory_to_s3(model_dir, \"models\")\n",
    "\n",
    "if num_files == 0:\n",
    "    raise ValueError(f\"No files uploaded. Check the {model_dir} directory.\")"
   ]
  },
  {
   "cell_type": "code",
   "execution_count": null,
   "id": "fe1765fb-b277-4f4d-bd94-b16a40787105",
   "metadata": {
    "tags": []
   },
   "outputs": [],
   "source": [
    "list_objects(\"models\")"
   ]
  }
 ],
 "metadata": {
  "kernelspec": {
   "display_name": "Python 3.9",
   "language": "python",
   "name": "python3"
  },
  "language_info": {
   "codemirror_mode": {
    "name": "ipython",
    "version": 3
   },
   "file_extension": ".py",
   "mimetype": "text/x-python",
   "name": "python",
   "nbconvert_exporter": "python",
   "pygments_lexer": "ipython3",
   "version": "3.9.16"
  }
 },
 "nbformat": 4,
 "nbformat_minor": 5
}
