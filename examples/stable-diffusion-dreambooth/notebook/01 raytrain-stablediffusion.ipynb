{
 "cells": [
  {
   "cell_type": "code",
   "execution_count": null,
   "id": "5362de71-4208-4de5-87b0-cdf21984d9bb",
   "metadata": {
    "tags": []
   },
   "outputs": [],
   "source": [
    "# For matplotlib 3.8.4 see https://discourse.matplotlib.org/t/latest-versions-via-pip-jupyterlab-import-of-matplotlib-broken/24477\n",
    "!pip install -U ray==2.7.0 codeflare_sdk==0.16.3 huggingface_hub==0.16.2 matplotlib==3.8.4"
   ]
  },
  {
   "cell_type": "markdown",
   "id": "5232eb16-f89d-4065-ab22-68d9bbfd18e8",
   "metadata": {},
   "source": [
    "Restart the notebook kernel after pip install"
   ]
  },
  {
   "cell_type": "code",
   "execution_count": null,
   "id": "6bd93c54-fc63-4db0-bc41-43913c1e2c40",
   "metadata": {
    "tags": []
   },
   "outputs": [],
   "source": [
    "import os\n",
    "\n",
    "work_dir=os.getcwd()\n",
    "print(f\"Current working directory: {work_dir}\")"
   ]
  },
  {
   "cell_type": "code",
   "execution_count": null,
   "id": "1b27507c-0cc0-4156-a38b-baf062943dbd",
   "metadata": {
    "tags": []
   },
   "outputs": [],
   "source": [
    "# Determine the images path mounted inside the Ray job\n",
    "from pathlib import Path\n",
    "\n",
    "original_path = Path(work_dir)\n",
    "\n",
    "# Prefix to remove\n",
    "prefix = Path('/opt/app-root/src')\n",
    "new_path = original_path.relative_to(prefix)\n",
    "ray_job_images_dir = f'/home/ray/share/{new_path}/images'\n",
    "\n",
    "print(f\"Path in ray job: {ray_job_images_dir}\")"
   ]
  },
  {
   "cell_type": "code",
   "execution_count": null,
   "id": "88259c38-f21b-408a-bb00-4dafd8529658",
   "metadata": {
    "tags": []
   },
   "outputs": [],
   "source": [
    "# A Ray cluster is created with 4 workers with a single GPU each that has a RWX volume mounted across the cluster. \n",
    "!oc apply -f {work_dir}/raycluster.yaml"
   ]
  },
  {
   "cell_type": "code",
   "execution_count": null,
   "id": "5c797cd2",
   "metadata": {
    "tags": []
   },
   "outputs": [],
   "source": [
    "# Get the Ray dashbord. This is authenticated by OpenShift OAuth.\n",
    "ray_dashboard=!oc get routes ray-dashboard-stable-diffusion -o jsonpath='{.spec.host}'\n",
    "print(f'Ray dashboard: https://{ray_dashboard.n}')"
   ]
  },
  {
   "cell_type": "code",
   "execution_count": null,
   "id": "f88d5a22-efd9-4867-8340-7876fa02ff06",
   "metadata": {
    "tags": []
   },
   "outputs": [],
   "source": [
    "!git clone https://github.com/ray-project/ray.git\n",
    "!(cd ray && git checkout 179b3d5ed6) #The HEAD rev when this notebook was written"
   ]
  },
  {
   "cell_type": "code",
   "execution_count": null,
   "id": "be234899-b854-4422-9260-ba5c4d62d771",
   "metadata": {
    "tags": []
   },
   "outputs": [],
   "source": [
    "!cp -r {work_dir}/ray/doc/source/templates/05_dreambooth_finetuning {work_dir}//dreambooth_finetuning\n",
    "!rm -rf {work_dir}/ray"
   ]
  },
  {
   "cell_type": "code",
   "execution_count": null,
   "id": "0c420ffb-df07-4542-b8bf-596eff78cdb8",
   "metadata": {
    "tags": []
   },
   "outputs": [],
   "source": [
    "# Prepare the directories expected by the stable diffusion fine-tuning example. \n",
    "# Note: These directories are created in a shared filesystem, which would be also accesible on ray head and worker pods\n",
    "# These are mounted as /home/ray/share in ray nodes\n",
    "!mkdir -p {work_dir}/images/images-own\n",
    "!mkdir -p {work_dir}/images/images-reg\n",
    "!mkdir -p {work_dir}/images/images-new\n",
    "!mkdir -p {work_dir}/images/model-orig\n",
    "!mkdir -p {work_dir}/images/model-tuned\n",
    "\n",
    "!chmod 777 -R {work_dir}/images"
   ]
  },
  {
   "cell_type": "code",
   "execution_count": null,
   "id": "a50e2569-5202-4298-982f-2b20f3059b41",
   "metadata": {
    "tags": []
   },
   "outputs": [],
   "source": [
    "# Download the dog image dataset\n",
    "!python {work_dir}/dreambooth_finetuning/dreambooth/download_example_dataset.py {work_dir}/images/images-own/"
   ]
  },
  {
   "cell_type": "code",
   "execution_count": null,
   "id": "96d75114-54ae-47f8-b656-521e9204166f",
   "metadata": {
    "tags": []
   },
   "outputs": [],
   "source": [
    "# Download the model checkpoint from huggingface hub and cache it a shared directory in the shared filesystem\n",
    "!python {work_dir}/dreambooth_finetuning/dreambooth/cache_model.py --model_dir={work_dir}/images/model-orig --model_name=CompVis/stable-diffusion-v1-4 --revision=b95be7d6f134c3a9e62ee616f310733567f069ce"
   ]
  },
  {
   "cell_type": "code",
   "execution_count": null,
   "id": "961a6e17-71cc-41ec-b77b-fcdfff43ae2d",
   "metadata": {
    "tags": []
   },
   "outputs": [],
   "source": [
    "from codeflare_sdk import generate_cert\n",
    "\n",
    "cluster_name = \"stable-diffusion\"\n",
    "namespace = \"distributed\"\n",
    "\n",
    "# Create required TLS cert and export the environment variables to enable TLS\n",
    "generate_cert.generate_tls_cert(cluster_name, namespace)\n",
    "generate_cert.export_env(cluster_name, namespace)"
   ]
  },
  {
   "cell_type": "code",
   "execution_count": null,
   "id": "80f4eb25-3613-4810-8132-8e8dafdff23f",
   "metadata": {
    "tags": []
   },
   "outputs": [],
   "source": [
    "# Connect to the ray cluster\n",
    "import ray\n",
    "ray.shutdown()\n",
    "\n",
    "from ray.job_submission import JobSubmissionClient\n",
    "client = JobSubmissionClient(\"ray://stable-diffusion-head-svc.distributed.svc.cluster.local:10001\")"
   ]
  },
  {
   "cell_type": "code",
   "execution_count": null,
   "id": "0d15c188-a86e-4f0c-a1c5-ba6b9f8d0e31",
   "metadata": {
    "tags": []
   },
   "outputs": [],
   "source": [
    "# https://docs.ray.io/en/latest/train/examples/pytorch/dreambooth_finetuning.html#step-3-create-the-regularization-images\n",
    "# create a ray job which prepares the regularization data. Ray worker pods have mounted the shared filesystem at /home/ray/share. \n",
    "#### NOTE:\n",
    "# The default number of workers used by generate.py is 4. If you do not have sufficient number of GPUs in the cluster please update the generate.py to use lesser number of workers at line https://github.com/ray-project/ray/blob/master/doc/source/templates/05_dreambooth_finetuning/dreambooth/generate.py#L51\n",
    "# Update the file `dreambooth_finetuning/dreambooth/generate.py`\n",
    "\n",
    "job_id = client.submit_job(\n",
    "    entrypoint=f\"python generate.py --model_dir='{ray_job_images_dir}/model-orig/models--CompVis--stable-diffusion-v1-4/snapshots/b95be7d6f134c3a9e62ee616f310733567f069ce' --output_dir='{ray_job_images_dir}/images-reg' --prompts='photo of a dog' --num_samples_per_prompt=100 --use_ray_data\",\n",
    "    # Path to the local directory that contains the entrypoint file.\n",
    "    runtime_env={\n",
    "        \"working_dir\": f\"{work_dir}/dreambooth_finetuning/dreambooth\", # upload the local working directory to ray workers\n",
    "        \"pip\": [\"accelerate==0.20.3\",\n",
    "                \"bitsandbytes==0.39.1\",\n",
    "                \"diffusers==0.19.3\",\n",
    "                \"flax==0.6.11\",\n",
    "                \"jax==0.4.13\",\n",
    "                \"jaxlib==0.4.13\",\n",
    "                \"ipywidgets\",\n",
    "                \"huggingface_hub==0.16.2\",\n",
    "                \"numpy==1.24.4\",\n",
    "                \"torch==2.0.1\",\n",
    "                \"torchvision==0.15.2\",\n",
    "                \"transformers==4.30.2\"]\n",
    "    }\n",
    ")\n",
    "print(\"jobid:\", job_id)"
   ]
  },
  {
   "cell_type": "code",
   "execution_count": null,
   "id": "7cb2a28b-6cfb-48ef-8e16-3a2c0687a0d2",
   "metadata": {
    "tags": []
   },
   "outputs": [],
   "source": [
    "# Replace with the jobid from the previous cell\n",
    "!ray job status {job_id}  --address \"ray://stable-diffusion-head-svc.distributed.svc.cluster.local:10001\" \n",
    "\n",
    "#!ray job stop {job_id}  --address \"ray://stable-diffusion-head-svc.distributed.svc.cluster.local:10001\" \n",
    "#!ray job delete {job_id}  --address \"ray://stable-diffusion-head-svc.distributed.svc.cluster.local:10001\" "
   ]
  },
  {
   "cell_type": "code",
   "execution_count": null,
   "id": "4ae819ad-5f11-4199-add6-6ab7aca58639",
   "metadata": {
    "tags": []
   },
   "outputs": [],
   "source": [
    "# https://docs.ray.io/en/latest/train/examples/pytorch/dreambooth_finetuning.html#step-4-fine-tune-the-model\n",
    "# Start the distributed ray train job on the ray cluster. This specific example would use 4 ray workers (each worker using 1 GPU)\n",
    "job_id = client.submit_job(\n",
    "    entrypoint=f\"python train.py --model_dir='{ray_job_images_dir}/model-orig/models--CompVis--stable-diffusion-v1-4/snapshots/b95be7d6f134c3a9e62ee616f310733567f069ce' --output_dir='{ray_job_images_dir}/model-tuned' --instance_images_dir='{ray_job_images_dir}/images-own' --instance_prompt='photo of unqtkn dog' --class_images_dir='{ray_job_images_dir}/images-reg' --class_prompt='photo of a dog' --train_batch=2 --lr=5e-6 --num_epochs=2 --max_train_steps=100 --num_workers=4\",\n",
    "    runtime_env={\n",
    "        \"working_dir\": f\"{work_dir}/dreambooth_finetuning/dreambooth\",\n",
    "        \"pip\": [\"accelerate==0.20.3\",\n",
    "                \"bitsandbytes==0.39.1\",\n",
    "                \"diffusers==0.19.3\",\n",
    "                \"flax==0.6.11\",\n",
    "                \"jax==0.4.13\",\n",
    "                \"jaxlib==0.4.13\",\n",
    "                \"ipywidgets\",\n",
    "                \"huggingface_hub==0.16.2\",\n",
    "                \"numpy==1.24.4\",\n",
    "                \"torch==2.0.1\",\n",
    "                \"torchvision==0.15.2\",\n",
    "                \"transformers==4.30.2\"]\n",
    "    }\n",
    ")\n",
    "print(\"jobid:\", job_id)"
   ]
  },
  {
   "cell_type": "code",
   "execution_count": null,
   "id": "82a3d2c7-f0c7-4ad9-96cc-f74c05b0dce3",
   "metadata": {
    "tags": []
   },
   "outputs": [],
   "source": [
    "!ray job status {job_id}  --address \"ray://stable-diffusion-head-svc.distributed.svc.cluster.local:10001\" "
   ]
  },
  {
   "cell_type": "code",
   "execution_count": null,
   "id": "ac989615-dcd5-4a04-934d-f41855699f48",
   "metadata": {
    "tags": []
   },
   "outputs": [],
   "source": [
    "# https://docs.ray.io/en/latest/train/examples/pytorch/dreambooth_finetuning.html#step-5-generate-images-of-the-subject\n",
    "# Do inference with the tuned model\n",
    "\n",
    "prompt = 'photo of a unqtkn dog in a sand castle'\n",
    "num_samples = 9\n",
    "\n",
    "job_id = client.submit_job(\n",
    "    entrypoint=f\"python generate.py --model_dir='{ray_job_images_dir}/model-tuned'  --output_dir='{ray_job_images_dir}/images-new' --prompts='{prompt}' --num_samples_per_prompt={num_samples} --use_ray_data\",\n",
    "    runtime_env={\n",
    "        \"working_dir\": f\"{work_dir}/dreambooth_finetuning/dreambooth\",\n",
    "        \"pip\": [\"accelerate==0.20.3\",\n",
    "                \"bitsandbytes==0.39.1\",\n",
    "                \"diffusers==0.19.3\",\n",
    "                \"flax==0.6.11\",\n",
    "                \"jax==0.4.13\",\n",
    "                \"jaxlib==0.4.13\",\n",
    "                \"ipywidgets\",\n",
    "                \"huggingface_hub==0.16.2\",\n",
    "                \"numpy==1.24.4\",\n",
    "                \"torch==2.0.1\",\n",
    "                \"torchvision==0.15.2\",\n",
    "                \"transformers==4.30.2\"]\n",
    "    }\n",
    ")\n",
    "print(\"jobid:\", job_id)"
   ]
  },
  {
   "cell_type": "code",
   "execution_count": null,
   "id": "50492bd4-0e7b-44ac-94af-fb067a110300",
   "metadata": {
    "tags": []
   },
   "outputs": [],
   "source": [
    "!ray job status {job_id}  --address \"ray://stable-diffusion-head-svc.distributed.svc.cluster.local:10001\" "
   ]
  },
  {
   "cell_type": "code",
   "execution_count": null,
   "id": "08c6bf50-4717-427d-93c8-2d4cb0e1d09e",
   "metadata": {
    "tags": []
   },
   "outputs": [],
   "source": [
    "!ls {work_dir}/images/images-new"
   ]
  },
  {
   "cell_type": "code",
   "execution_count": null,
   "id": "3f14d4c3-94a4-4bb0-a2f0-4903da7c4b48",
   "metadata": {
    "tags": []
   },
   "outputs": [],
   "source": [
    "# If matplotlib raises an exception of invalid backend or no attribute 'colors'\n",
    "# Try restarting the workbench or the notebook kernel\n",
    "\n",
    "# Enable inline plotting\n",
    "%matplotlib inline\n",
    "\n",
    "# Required imports\n",
    "import matplotlib.pyplot as plt\n",
    "import matplotlib.image as mpimg\n",
    "import os\n",
    "\n",
    "# Function to display images in a grid\n",
    "def display_images_in_grid(image_paths, grid_shape):\n",
    "    fig, axes = plt.subplots(grid_shape[0], grid_shape[1], figsize=(15, 15))\n",
    "    axes = axes.ravel()  # Flatten the array of axes for easy iteration\n",
    "\n",
    "    for idx, img_path in enumerate(image_paths):\n",
    "        if idx < len(axes):  # Make sure there are enough axes\n",
    "            img = mpimg.imread(img_path)\n",
    "            axes[idx].imshow(img)\n",
    "            axes[idx].axis('off')  # Hide the axes\n",
    "        else:\n",
    "            break  # Stop if there are more images than grid spaces\n",
    "\n",
    "    plt.tight_layout()\n",
    "    plt.show()"
   ]
  },
  {
   "cell_type": "code",
   "execution_count": null,
   "id": "f031fe88-9447-4507-942f-a2978735c7d7",
   "metadata": {
    "tags": []
   },
   "outputs": [],
   "source": [
    "image_directory = f'{work_dir}/images/images-new'\n",
    "image_paths = [os.path.join(image_directory, f) for f in os.listdir(image_directory) if f.endswith('.jpg')]\n",
    "\n",
    "# Define the grid shape (rows, columns)\n",
    "grid_shape = (3, 3)  # For a 3x3 grid\n",
    "\n",
    "display_images_in_grid(image_paths, grid_shape)"
   ]
  },
  {
   "cell_type": "code",
   "execution_count": null,
   "id": "47fc8ae8-350c-45d9-8da4-0b6a5705b20e",
   "metadata": {
    "tags": []
   },
   "outputs": [],
   "source": [
    "!oc delete -f {work_dir}/raycluster.yaml"
   ]
  },
  {
   "cell_type": "code",
   "execution_count": null,
   "id": "1d8c491f-b37f-40c8-88c6-25b4401ea0b0",
   "metadata": {},
   "outputs": [],
   "source": []
  }
 ],
 "metadata": {
  "kernelspec": {
   "display_name": "Python 3.9",
   "language": "python",
   "name": "python3"
  },
  "language_info": {
   "codemirror_mode": {
    "name": "ipython",
    "version": 3
   },
   "file_extension": ".py",
   "mimetype": "text/x-python",
   "name": "python",
   "nbconvert_exporter": "python",
   "pygments_lexer": "ipython3",
   "version": "3.9.19"
  }
 },
 "nbformat": 4,
 "nbformat_minor": 5
}
