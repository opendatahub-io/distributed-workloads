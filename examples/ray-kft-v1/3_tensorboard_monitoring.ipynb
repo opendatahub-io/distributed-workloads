{
 "cells": [
  {
   "cell_type": "markdown",
   "metadata": {},
   "source": [
    "## Phase-3 : TensorBoard Training Monitoring\n",
    "\n",
    "Monitor your Granite model fine-tuning progress with TensorBoard visualization.\n"
   ]
  },
  {
   "cell_type": "code",
   "execution_count": 1,
   "metadata": {},
   "outputs": [],
   "source": [
    "import os\n",
    "os.environ[\"TENSORBOARD_PROXY_URL\"]= os.environ[\"NB_PREFIX\"]+\"/proxy/6006/\""
   ]
  },
  {
   "cell_type": "code",
   "execution_count": 2,
   "metadata": {},
   "outputs": [],
   "source": [
    "# Load TensorBoard extension\n",
    "%load_ext tensorboard"
   ]
  },
  {
   "cell_type": "markdown",
   "metadata": {},
   "source": [
    "## 🎯 Training Metrics Visualization\n",
    "\n",
    "View real-time training progress including:\n",
    "- Training & validation loss\n",
    "- Learning rate schedules  \n",
    "- Gradient norms\n",
    "- System metrics (GPU/CPU usage)\n"
   ]
  },
  {
   "cell_type": "code",
   "execution_count": null,
   "metadata": {},
   "outputs": [],
   "source": [
    "# Start TensorBoard for current training run\n",
    "%tensorboard --logdir /opt/app-root/src/shared/models --port 6006"
   ]
  },
  {
   "cell_type": "markdown",
   "metadata": {},
   "source": [
    "## 🏆 Key Training Insights and overall assessment : What's Working Excellently\n",
    "\n",
    "`Your Granite fine-tuning is successful!`\n",
    "\n",
    "- ✅ Strong Learning: 14% token accuracy improvement\n",
    "- ✅ Loss Reduction:  Excellent (2.75 → 2.56)\n",
    "- ✅ Token Accuracy: Outstanding (56% → 70%)\n",
    "- ✅ Gradient Health: Very Good (decreasing norms)\n",
    "- ✅ Stable Training: Good gradient behavior\n",
    "- ✅ Proper Convergence: No signs of instability\n",
    "- ✅ Ready for Inference"
   ]
  }
 ],
 "metadata": {
  "kernelspec": {
   "display_name": "Python 3.12",
   "language": "python",
   "name": "python3"
  },
  "language_info": {
   "codemirror_mode": {
    "name": "ipython",
    "version": 3
   },
   "file_extension": ".py",
   "mimetype": "text/x-python",
   "name": "python",
   "nbconvert_exporter": "python",
   "pygments_lexer": "ipython3",
   "version": "3.12.9"
  }
 },
 "nbformat": 4,
 "nbformat_minor": 4
}
