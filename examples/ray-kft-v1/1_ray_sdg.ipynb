{
 "cells": [
  {
   "cell_type": "markdown",
   "id": "576f8661",
   "metadata": {},
   "source": [
    "## Phase 1 : RayCluster Setup and Ray Based Distributed Data Processing\n",
    "\n",
    "- **CodeFlare SDK**: Ray cluster deployment and management on Kubernetes\n",
    "- **Ray Job Submission**: Distributed synthetic data generation using Ray workers"
   ]
  },
  {
   "cell_type": "markdown",
   "id": "c2f96f12",
   "metadata": {},
   "source": [
    "### Setup Ray Cluster using Codeflare-SDK\n",
    "\n",
    "Configure and deploy the Ray cluster for distributed data processing\n"
   ]
  },
  {
   "cell_type": "code",
   "execution_count": 65,
   "id": "cde5dd0b",
   "metadata": {},
   "outputs": [
    {
     "data": {
      "text/plain": [
       "'Logged into https://<api-server-url>:6443'"
      ]
     },
     "execution_count": 65,
     "metadata": {},
     "output_type": "execute_result"
    }
   ],
   "source": [
    "# Setup Ray cluster using CodeFlare SDK\n",
    "from codeflare_sdk import Cluster, ClusterConfiguration, TokenAuthentication\n",
    "import time\n",
    "\n",
    "token=\"<auth_token>\"\n",
    "api_server=\"<api_server_url>\"\n",
    "\n",
    "# Authenticate with the Openshift cluster\n",
    "auth = TokenAuthentication(\n",
    "    token=token,\n",
    "    server=api_server,\n",
    "    skip_tls=True\n",
    ")\n",
    "auth.login()"
   ]
  },
  {
   "cell_type": "code",
   "execution_count": 66,
   "id": "3303a9a8",
   "metadata": {},
   "outputs": [
    {
     "name": "stdout",
     "output_type": "stream",
     "text": [
      "Yaml resources loaded for test1-cluster\n"
     ]
    },
    {
     "name": "stdout",
     "output_type": "stream",
     "text": [
      " Ray Cluster Configuration:\n",
      "   Name: test1-cluster\n",
      "   Workers: 2\n",
      "   Worker Resources: 2CPU, 20G RAM, {'nvidia.com/gpu': 2} GPU\n",
      "   Image: quay.io/rhoai/ray:2.35.0-py311-cu121-torch24-fa26\n"
     ]
    }
   ],
   "source": [
    "# Configure Ray cluster for distributed synthetic data generation\n",
    "from kubernetes.client.models import V1Volume, V1VolumeMount, V1PersistentVolumeClaimVolumeSource\n",
    "\n",
    "ray_cluster = Cluster(ClusterConfiguration(\n",
    "    name=\"test1-cluster\",\n",
    "    num_workers=2,\n",
    "    # Head node configuration\n",
    "    head_cpu_requests=2,\n",
    "    head_cpu_limits=4,\n",
    "    head_memory_requests=16,\n",
    "    head_memory_limits=24,\n",
    "    # Worker node configuration\n",
    "    worker_cpu_requests=2,\n",
    "    worker_cpu_limits=4,\n",
    "    worker_memory_requests=20,\n",
    "    worker_memory_limits=24,\n",
    "    # UnComment in case of using accelerators for RayCluster\n",
    "    head_extended_resource_requests={'nvidia.com/gpu': 2},\n",
    "    worker_extended_resource_requests={'nvidia.com/gpu': 2},\n",
    "    # Ray runtime image\n",
    "    image=\"quay.io/rhoai/ray:2.35.0-py311-cu121-torch24-fa26\",\n",
    "    # Volume mount - Shared PVC storage with RWX peermissions\n",
    "    volume_mounts=[\n",
    "        V1VolumeMount(\n",
    "            name=\"shared\",\n",
    "            mount_path=\"/shared\"\n",
    "        )\n",
    "    ],\n",
    "    volumes=[\n",
    "        V1Volume(\n",
    "            name=\"shared\",\n",
    "            persistent_volume_claim=V1PersistentVolumeClaimVolumeSource(\n",
    "                claim_name=\"shared\"\n",
    "            )\n",
    "        )\n",
    "    ],\n",
    "))\n",
    "\n",
    "print(\" Ray Cluster Configuration:\")\n",
    "print(f\"   Name: {ray_cluster.config.name}\")\n",
    "print(f\"   Workers: {ray_cluster.config.num_workers}\")\n",
    "print(f\"   Worker Resources: {ray_cluster.config.worker_cpu_requests}CPU, {ray_cluster.config.worker_memory_requests} RAM, {ray_cluster.config.worker_extended_resource_requests} GPU\")\n",
    "print(f\"   Image: {ray_cluster.config.image}\")\n"
   ]
  },
  {
   "cell_type": "code",
   "execution_count": 63,
   "id": "4984abc8",
   "metadata": {},
   "outputs": [
    {
     "name": "stdout",
     "output_type": "stream",
     "text": [
      "Ray Cluster: 'test1-cluster' has successfully been applied. For optimal resource management, you should delete this Ray Cluster when no longer in use.\n"
     ]
    }
   ],
   "source": [
    "# Deploy the Ray cluster\n",
    "ray_cluster.apply()"
   ]
  },
  {
   "cell_type": "code",
   "execution_count": 67,
   "id": "1f88a2be",
   "metadata": {},
   "outputs": [
    {
     "name": "stdout",
     "output_type": "stream",
     "text": [
      "Waiting for requested resources to be set up...\n",
      "Requested cluster is up and running!\n",
      "Dashboard is ready!\n"
     ]
    }
   ],
   "source": [
    "# Wait for Ray cluster to be ready\n",
    "ray_cluster.wait_ready()"
   ]
  },
  {
   "cell_type": "code",
   "execution_count": 44,
   "id": "e8de7254",
   "metadata": {},
   "outputs": [
    {
     "data": {
      "text/html": [
       "<pre style=\"white-space:pre;overflow-x:auto;line-height:normal;font-family:Menlo,'DejaVu Sans Mono',consolas,'Courier New',monospace\"><span style=\"font-style: italic\">                       </span><span style=\"font-weight: bold; font-style: italic\"> 🚀 CodeFlare Cluster Details 🚀</span><span style=\"font-style: italic\">                       </span>\n",
       "<span style=\"font-weight: bold\">                                                                              </span>\n",
       " ╭──────────────────────────────────────────────────────────────────────────╮ \n",
       " │   <span style=\"color: #c0c0c0; text-decoration-color: #c0c0c0; background-color: #008000; font-weight: bold\">Name</span>                                                                   │ \n",
       " │   <span style=\"font-weight: bold; text-decoration: underline\">test1-cluster</span>                                              Active ✅   │ \n",
       " │                                                                          │ \n",
       " │   <span style=\"font-weight: bold\">URI:</span> ray://test1-cluster-head-svc.<test-namespace>.svc:10001              │ \n",
       " │                                                                          │ \n",
       " │   <a href=\"https://ray-dashboard-<raycluster-name>-<namespace>.<domain_url>\" target=\"_blank\"><span style=\"color: #000080; text-decoration-color: #000080; text-decoration: underline\">Dashboard🔗</span></a>                                                            │ \n",
       " │                                                                          │ \n",
       " │  <span style=\"font-style: italic\">                     Cluster Resources                     </span>             │ \n",
       " │   ╭── Workers ──╮  ╭───────── Worker specs(each) ─────────╮              │ \n",
       " │   │ <span style=\"font-weight: bold\"> # Workers </span> │  │ <span style=\"font-weight: bold\"> Memory      CPU         GPU        </span> │              │ \n",
       " │   │ <span style=\"color: #800080; text-decoration-color: #800080\">           </span> │  │ <span style=\"color: #008080; text-decoration-color: #008080\">            </span><span style=\"color: #800080; text-decoration-color: #800080\">                        </span> │              │ \n",
       " │   │ <span style=\"color: #800080; text-decoration-color: #800080\"> 2         </span> │  │ <span style=\"color: #008080; text-decoration-color: #008080\"> 20G~24G    </span><span style=\"color: #800080; text-decoration-color: #800080\"> 2~4         2          </span> │              │ \n",
       " │   │ <span style=\"color: #800080; text-decoration-color: #800080\">           </span> │  │ <span style=\"color: #008080; text-decoration-color: #008080\">            </span><span style=\"color: #800080; text-decoration-color: #800080\">                        </span> │              │ \n",
       " │   ╰─────────────╯  ╰──────────────────────────────────────╯              │ \n",
       " ╰──────────────────────────────────────────────────────────────────────────╯ \n",
       "</pre>\n"
      ],
      "text/plain": [
       "\u001b[3m                       \u001b[0m\u001b[1;3m 🚀 CodeFlare Cluster Details 🚀\u001b[0m\u001b[3m                       \u001b[0m\n",
       "\u001b[1m \u001b[0m\u001b[1m                                                                            \u001b[0m\u001b[1m \u001b[0m\n",
       " ╭──────────────────────────────────────────────────────────────────────────╮ \n",
       " │   \u001b[1;37;42mName\u001b[0m                                                                   │ \n",
       " │   \u001b[1;4mtest1-cluster\u001b[0m                                              Active ✅   │ \n",
       " │                                                                          │ \n",
       " │   \u001b[1mURI:\u001b[0m ray://test1-cluster-head-svc.<test-namespace>.svc:10001              │ \n",
       " │                                                                          │ \n",
       " │   \u001b]8;id=726768;https://ray-dashboard-<raycluster-name>-<namespace>.<domain_url>\u001b\\\u001b[4;34mDashboard🔗\u001b[0m\u001b]8;;\u001b\\                                                            │ \n",
       " │                                                                          │ \n",
       " │  \u001b[3m                     Cluster Resources                     \u001b[0m             │ \n",
       " │   ╭── Workers ──╮  ╭───────── Worker specs(each) ─────────╮              │ \n",
       " │   │ \u001b[1m \u001b[0m\u001b[1m# Workers\u001b[0m\u001b[1m \u001b[0m │  │ \u001b[1m \u001b[0m\u001b[1mMemory    \u001b[0m\u001b[1m \u001b[0m\u001b[1m \u001b[0m\u001b[1mCPU       \u001b[0m\u001b[1m \u001b[0m\u001b[1m \u001b[0m\u001b[1mGPU       \u001b[0m\u001b[1m \u001b[0m │              │ \n",
       " │   │ \u001b[35m \u001b[0m\u001b[35m         \u001b[0m\u001b[35m \u001b[0m │  │ \u001b[36m \u001b[0m\u001b[36m          \u001b[0m\u001b[36m \u001b[0m\u001b[35m \u001b[0m\u001b[35m          \u001b[0m\u001b[35m \u001b[0m\u001b[35m \u001b[0m\u001b[35m          \u001b[0m\u001b[35m \u001b[0m │              │ \n",
       " │   │ \u001b[35m \u001b[0m\u001b[35m2        \u001b[0m\u001b[35m \u001b[0m │  │ \u001b[36m \u001b[0m\u001b[36m20G~24G   \u001b[0m\u001b[36m \u001b[0m\u001b[35m \u001b[0m\u001b[35m2~4       \u001b[0m\u001b[35m \u001b[0m\u001b[35m \u001b[0m\u001b[35m2         \u001b[0m\u001b[35m \u001b[0m │              │ \n",
       " │   │ \u001b[35m \u001b[0m\u001b[35m         \u001b[0m\u001b[35m \u001b[0m │  │ \u001b[36m \u001b[0m\u001b[36m          \u001b[0m\u001b[36m \u001b[0m\u001b[35m \u001b[0m\u001b[35m          \u001b[0m\u001b[35m \u001b[0m\u001b[35m \u001b[0m\u001b[35m          \u001b[0m\u001b[35m \u001b[0m │              │ \n",
       " │   ╰─────────────╯  ╰──────────────────────────────────────╯              │ \n",
       " ╰──────────────────────────────────────────────────────────────────────────╯ \n"
      ]
     },
     "metadata": {},
     "output_type": "display_data"
    },
    {
     "data": {
      "text/plain": [
       "RayCluster(name='test1-cluster', status=<RayClusterStatus.READY: 'ready'>, head_cpu_requests=2, head_cpu_limits=4, head_mem_requests='16G', head_mem_limits='24G', num_workers=2, worker_mem_requests='20G', worker_mem_limits='24G', worker_cpu_requests=2, worker_cpu_limits=4, namespace='<test-namespace>', dashboard='https://ray-dashboard-<raycluster-name>-<namespace>.<domain_url>', worker_extended_resources={'nvidia.com/gpu': 2}, head_extended_resources={'nvidia.com/gpu': 2})"
      ]
     },
     "execution_count": 44,
     "metadata": {},
     "output_type": "execute_result"
    }
   ],
   "source": [
    "ray_cluster.details()"
   ]
  },
  {
   "cell_type": "code",
   "execution_count": 68,
   "id": "9cc5585a",
   "metadata": {},
   "outputs": [
    {
     "name": "stdout",
     "output_type": "stream",
     "text": [
      "Ray job client initialized\n"
     ]
    }
   ],
   "source": [
    "# Initialize the Job Submission Client\n",
    "client = ray_cluster.job_client\n",
    "print(\"Ray job client initialized\")\n"
   ]
  },
  {
   "cell_type": "markdown",
   "id": "0ca759e7",
   "metadata": {},
   "source": [
    "## Submit Ray Job for Synthetic Data Generation\n",
    "\n",
    "Submit the synthetic data generation function to the Ray cluster:\n"
   ]
  },
  {
   "cell_type": "code",
   "execution_count": 81,
   "id": "c8eb5659",
   "metadata": {},
   "outputs": [
    {
     "name": "stdout",
     "output_type": "stream",
     "text": [
      "Ray Data SDG job submitted with ID: raysubmit_SVqNSiZVvbSCtsJV\n"
     ]
    }
   ],
   "source": [
    "# Submit the Ray Data SDG job for distributed synthetic data generation\n",
    "submission_id = client.submit_job(\n",
    "    entrypoint=(\n",
    "            \"python scripts/ray_sdg_job.py \"\n",
    "            \"--enable-multi-node \"\n",
    "            \"--seeds 1000 \"\n",
    "            \"--variations 2 \"\n",
    "            \"--batch-size 2 \"\n",
    "            \"--quality-threshold 0.75 \"\n",
    "            \"--output-path /shared/synthetic_data_v2 \"\n",
    "            \"--max-concurrent-workers 6 \"\n",
    "            \"--gpus-per-worker 1 \"\n",
    "            \"--resume \"\n",
    "            \"--save-every 100\"\n",
    "        ),    \n",
    "    runtime_env={\n",
    "        \"env_vars\": {\n",
    "            'HF_HOME': '/shared/cache',\n",
    "            'HF_DATASETS_CACHE': '/shared/cache/datasets',\n",
    "            'TOKENIZERS_PARALLELISM': 'false',\n",
    "        },\n",
    "        'pip': [\n",
    "            'ray[data]>=2.8.0',\n",
    "            'transformers>=4.36.0',\n",
    "            'torch>=2.0.0', \n",
    "            'datasets>=2.14.0',\n",
    "            'accelerate>=0.24.0',\n",
    "            'numpy>=1.21.0',\n",
    "            'tqdm>=4.64.0',\n",
    "            'pyarrow>=12.0.0,<15.0.0',\n",
    "        ],\n",
    "        'working_dir': './',\n",
    "        \"excludes\": [\"*.ipynb\", \"*.md\"]\n",
    "    },\n",
    ")\n",
    "\n",
    "print(f\"Ray Data SDG job submitted with ID: {submission_id}\")"
   ]
  },
  {
   "cell_type": "code",
   "execution_count": null,
   "id": "4bcfa1fb",
   "metadata": {},
   "outputs": [],
   "source": [
    "client.get_job_logs(submission_id)"
   ]
  },
  {
   "cell_type": "code",
   "execution_count": 82,
   "id": "429051e9",
   "metadata": {},
   "outputs": [
    {
     "data": {
      "text/plain": [
       "True"
      ]
     },
     "execution_count": 82,
     "metadata": {},
     "output_type": "execute_result"
    }
   ],
   "source": [
    "# Stop/Delete any running jobs\n",
    "# client.stop_job(submission_id)\n",
    "client.delete_job(submission_id)"
   ]
  },
  {
   "cell_type": "markdown",
   "id": "189584fd",
   "metadata": {},
   "source": [
    "### Cleanup Ray Cluster\n",
    "\n",
    "Clean up the Ray cluster resources (following ray_finetune_llm_deepspeed.ipynb pattern):\n"
   ]
  },
  {
   "cell_type": "code",
   "execution_count": 83,
   "id": "bcf75853",
   "metadata": {},
   "outputs": [
    {
     "name": "stdout",
     "output_type": "stream",
     "text": [
      " Cleaning up Ray cluster...\n",
      "Ray Cluster: 'test1-cluster' has successfully been deleted\n"
     ]
    }
   ],
   "source": [
    "# Cleanup Ray cluster (following ray_finetune_llm_deepspeed.ipynb pattern)\n",
    "print(\" Cleaning up Ray cluster...\")\n",
    "\n",
    "# Tear down the Ray cluster\n",
    "ray_cluster.down()\n"
   ]
  },
  {
   "cell_type": "code",
   "execution_count": 84,
   "id": "e021423d-c7c6-4aa0-9c3b-f8747bb27e85",
   "metadata": {},
   "outputs": [
    {
     "name": "stdout",
     "output_type": "stream",
     "text": [
      " Dataset found: 295 samples\n",
      "   Avg quality: 0.76 \n",
      "   Source: ray_data_sdg_qwen\n",
      "   Sample Question -> A school bought 7 boxes of pencils. Each box contains 24 pencils. How many pencils did the school buy?\n",
      "   Sample Answer -> To find out how many pencils the school bought, we multiply the number of boxes by the number of pencils per box.\n",
      "Number of boxes: 7\n",
      "Number of pencils per box: 24\n",
      "Total pencils = 7 * 24 = 168\n",
      "Therefore, the school bought 168 pencils.\n",
      "\n",
      " Ready for training!\n"
     ]
    }
   ],
   "source": [
    "import os, json\n",
    "# Check for dataset\n",
    "paths = [\"/opt/app-root/src/shared/synthetic_data/synthetic_dataset.json\", \n",
    "         \"/opt/app-root/src/shared/synthetic_data/final_synthetic_dataset.json\"]\n",
    "dataset_path = next((p for p in paths if os.path.exists(p)), None)\n",
    "\n",
    "if dataset_path:\n",
    "    with open(dataset_path, \"r\") as f:\n",
    "        data = json.load(f)\n",
    "    \n",
    "    if isinstance(data, list):\n",
    "        total_samples = len(data)\n",
    "        avg_quality = sum(item.get('overall_quality', 0) for item in data) / total_samples if total_samples > 0 else 0\n",
    "        sample = data[0] if data else None\n",
    "        \n",
    "        print(f\" Dataset found: {total_samples} samples\")\n",
    "        print(f\"   Avg quality: {avg_quality:.2f} \\n   Source: {sample.get('source', 'N/A') if sample else 'N/A'}\")\n",
    "    \n",
    "    # Show sample\n",
    "    if sample:\n",
    "        print(f\"   Sample Question -> {sample['question']}\")\n",
    "        print(f\"   Sample Answer -> {sample['answer']}\")\n",
    "    \n",
    "    print(\"\\n Ready for training!\")    \n",
    "else:\n",
    "    print(\" Dataset not found. Run Ray Data job first.\")"
   ]
  }
 ],
 "metadata": {
  "kernelspec": {
   "display_name": "Python 3.12",
   "language": "python",
   "name": "python3"
  },
  "language_info": {
   "codemirror_mode": {
    "name": "ipython",
    "version": 3
   },
   "file_extension": ".py",
   "mimetype": "text/x-python",
   "name": "python",
   "nbconvert_exporter": "python",
   "pygments_lexer": "ipython3",
   "version": "3.12.9"
  }
 },
 "nbformat": 4,
 "nbformat_minor": 5
}
